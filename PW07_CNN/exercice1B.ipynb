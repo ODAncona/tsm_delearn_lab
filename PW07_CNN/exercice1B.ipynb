{
 "cells": [
  {
   "cell_type": "markdown",
   "metadata": {},
   "source": [
    "## Exercise 1 Part B\n",
    "\n",
    "This notebook contains only the answer of the last point of the exercise 1B \"Compute the values of the output with S = 1 and P = 0 using an appropriate iPython notebook.\" The rest of the exercise is in pdf format.\n"
   ]
  },
  {
   "cell_type": "code",
   "execution_count": 63,
   "metadata": {},
   "outputs": [],
   "source": [
    "import numpy as np"
   ]
  },
  {
   "cell_type": "code",
   "execution_count": 64,
   "metadata": {},
   "outputs": [],
   "source": [
    "input_r = np.array([[2,1,0,2],[2,0,1,2],[0,2,1,2],[0,0,1,0]])\n",
    "input_g = np.array([[0,2,2,1],[0,2,2,1],[2,0,2,0],[1,1,0,2]])\n",
    "input_b = np.array([[0,2,0,0],[2,1,1,1],[2,0,0,2],[0,2,0,2]])"
   ]
  },
  {
   "cell_type": "code",
   "execution_count": 65,
   "metadata": {},
   "outputs": [],
   "source": [
    "filter_1a = np.array([[1,1],[0,0]])\n",
    "filter_1b = np.array([[0,-1],[0,-1]])\n",
    "filter_1c = np.array([[1,0],[1,0]])\n",
    "bias_1 = 1\n",
    "\n",
    "filter_2a = np.array([[0,1],[0,1]])\n",
    "filter_2b = np.array([[1,0],[1,0]])\n",
    "filter_2c = np.array([[-1,0],[0,1]])\n",
    "bias_2 = -1"
   ]
  },
  {
   "cell_type": "code",
   "execution_count": 66,
   "metadata": {},
   "outputs": [],
   "source": [
    "def compute_convolution(input, filter, bias):\n",
    "   padding = 0\n",
    "   stride = 1\n",
    "   filter_size = 2\n",
    "   input_size = 4\n",
    "   \n",
    "   output_size = int((input_size - filter_size + 2 * padding) / stride) + 1\n",
    "   output = np.zeros((output_size, output_size))\n",
    "   for i in range(output_size):\n",
    "      for j in range(output_size):\n",
    "         input_region = input[i:i+filter_size, j:j+filter_size]\n",
    "            # Perform element-wise multiplication between the filter and the input region\n",
    "            # and sum the results to get a single value for the output\n",
    "         output[i, j] = np.sum(input_region * filter) + bias\n",
    "         \"\"\"\"\n",
    "         output[i,j] = bias\n",
    "         for k in range(filter_size):\n",
    "            for l in range(filter_size):\n",
    "               output[i,j] += input[i+k,j+l] * filter[k,l]\n",
    "               \"\"\"\n",
    "   return output\n"
   ]
  },
  {
   "cell_type": "code",
   "execution_count": 69,
   "metadata": {},
   "outputs": [],
   "source": [
    "outputs = []\n",
    "\n",
    "outputs.append(compute_convolution(input_r, filter_1a, bias_1))\n",
    "outputs.append(compute_convolution(input_r, filter_1b, bias_1))\n",
    "outputs.append(compute_convolution(input_r, filter_1c, bias_1))\n",
    "\n",
    "outputs.append(compute_convolution(input_g, filter_1a, bias_1))\n",
    "outputs.append(compute_convolution(input_g, filter_1b, bias_1))\n",
    "outputs.append(compute_convolution(input_g, filter_1c, bias_1))\n",
    "\n",
    "outputs.append(compute_convolution(input_b, filter_1a, bias_1))\n",
    "outputs.append(compute_convolution(input_b, filter_1b, bias_1))\n",
    "outputs.append(compute_convolution(input_b, filter_1c, bias_1))\n",
    "\n",
    "outputs.append(compute_convolution(input_r, filter_2a, bias_2))\n",
    "outputs.append(compute_convolution(input_r, filter_2b, bias_2))\n",
    "outputs.append(compute_convolution(input_r, filter_2c, bias_2))\n",
    "\n",
    "outputs.append(compute_convolution(input_g, filter_2a, bias_2))\n",
    "outputs.append(compute_convolution(input_g, filter_2b, bias_2))\n",
    "outputs.append(compute_convolution(input_g, filter_2c, bias_2))\n",
    "\n",
    "outputs.append(compute_convolution(input_b, filter_2a, bias_2))\n",
    "outputs.append(compute_convolution(input_b, filter_2b, bias_2))\n",
    "outputs.append(compute_convolution(input_b, filter_2c, bias_2))"
   ]
  },
  {
   "cell_type": "code",
   "execution_count": 70,
   "metadata": {},
   "outputs": [],
   "source": [
    "def display_output(output):\n",
    "   for i in range(2):\n",
    "      for j in range(2):\n",
    "         print(output[i,j], end=' ')\n",
    "      print()"
   ]
  },
  {
   "cell_type": "code",
   "execution_count": 71,
   "metadata": {},
   "outputs": [
    {
     "name": "stdout",
     "output_type": "stream",
     "text": [
      "4.0 2.0 \n",
      "3.0 2.0 \n",
      "\n",
      "0.0 0.0 \n",
      "-1.0 -1.0 \n",
      "\n",
      "5.0 2.0 \n",
      "3.0 3.0 \n",
      "\n",
      "3.0 5.0 \n",
      "3.0 5.0 \n",
      "\n",
      "-3.0 -3.0 \n",
      "-1.0 -3.0 \n",
      "\n",
      "1.0 5.0 \n",
      "3.0 3.0 \n",
      "\n",
      "3.0 3.0 \n",
      "4.0 3.0 \n",
      "\n",
      "-2.0 0.0 \n",
      "0.0 0.0 \n",
      "\n",
      "3.0 4.0 \n",
      "5.0 2.0 \n",
      "\n",
      "0.0 0.0 \n",
      "1.0 1.0 \n",
      "\n",
      "3.0 0.0 \n",
      "1.0 1.0 \n",
      "\n",
      "-3.0 -1.0 \n",
      "-1.0 0.0 \n",
      "\n",
      "3.0 3.0 \n",
      "1.0 3.0 \n",
      "\n",
      "-1.0 3.0 \n",
      "1.0 1.0 \n",
      "\n",
      "1.0 -1.0 \n",
      "-1.0 -1.0 \n",
      "\n",
      "2.0 0.0 \n",
      "0.0 0.0 \n",
      "\n",
      "1.0 2.0 \n",
      "3.0 0.0 \n",
      "\n",
      "0.0 -2.0 \n",
      "-3.0 -2.0 \n",
      "\n"
     ]
    }
   ],
   "source": [
    "for output in outputs:\n",
    "   display_output(output)\n",
    "   print()"
   ]
  },
  {
   "cell_type": "code",
   "execution_count": null,
   "metadata": {},
   "outputs": [],
   "source": []
  }
 ],
 "metadata": {
  "kernelspec": {
   "display_name": "deepl",
   "language": "python",
   "name": "python3"
  },
  "language_info": {
   "codemirror_mode": {
    "name": "ipython",
    "version": 3
   },
   "file_extension": ".py",
   "mimetype": "text/x-python",
   "name": "python",
   "nbconvert_exporter": "python",
   "pygments_lexer": "ipython3",
   "version": "3.8.18"
  }
 },
 "nbformat": 4,
 "nbformat_minor": 2
}
